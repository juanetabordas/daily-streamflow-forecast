{
 "cells": [
  {
   "cell_type": "markdown",
   "id": "2921b45a",
   "metadata": {},
   "source": [
    "### Selección de variables de acuerdo con los metodos vistos en clase"
   ]
  },
  {
   "cell_type": "code",
   "execution_count": 1,
   "id": "e89b7915",
   "metadata": {},
   "outputs": [],
   "source": [
    "import pandas as pd\n",
    "import numpy as np\n",
    "import os\n",
    "import glob\n",
    "import seaborn as sns\n",
    "import xarray as xr\n",
    "import matplotlib.pyplot as plt\n",
    "import datetime as dt\n",
    "import matplotlib as mpl\n",
    "import matplotlib.cm as cm\n",
    "mpl.rcParams['font.family'] = 'serif'\n",
    "mpl.rcParams['font.size'] = 10\n",
    "from Funciones import *"
   ]
  },
  {
   "cell_type": "code",
   "execution_count": 2,
   "id": "962d4fa7",
   "metadata": {},
   "outputs": [],
   "source": [
    "ruta_base  = os.path.dirname(os.path.abspath('./')) + '/'\n",
    "ruta_datos = ruta_base + 'Datos/'\n",
    "ruta_shp   = ruta_datos+ 'Shapefiles/'\n",
    "ruta_imagenes = ruta_base + 'Imagenes/'"
   ]
  },
  {
   "cell_type": "code",
   "execution_count": 3,
   "id": "16b7a207",
   "metadata": {},
   "outputs": [],
   "source": [
    "# Carga información y elimina datos nans\n",
    "\n",
    "datos_anomalias_rez = pd.read_csv(ruta_datos+'Anomalias_rezagadas_datos.csv', index_col=0, parse_dates=True)\n",
    "datos_anomalias_rez = datos_anomalias_rez.iloc[~datos_anomalias_rez.isna().any(axis=1).values,:]"
   ]
  },
  {
   "cell_type": "code",
   "execution_count": 4,
   "id": "6d1b5aa7",
   "metadata": {
    "scrolled": true
   },
   "outputs": [
    {
     "data": {
      "text/html": [
       "<div>\n",
       "<style scoped>\n",
       "    .dataframe tbody tr th:only-of-type {\n",
       "        vertical-align: middle;\n",
       "    }\n",
       "\n",
       "    .dataframe tbody tr th {\n",
       "        vertical-align: top;\n",
       "    }\n",
       "\n",
       "    .dataframe thead th {\n",
       "        text-align: right;\n",
       "    }\n",
       "</style>\n",
       "<table border=\"1\" class=\"dataframe\">\n",
       "  <thead>\n",
       "    <tr style=\"text-align: right;\">\n",
       "      <th></th>\n",
       "      <th>EIG_a</th>\n",
       "      <th>ER_s_2</th>\n",
       "      <th>Kelvin_s_1</th>\n",
       "      <th>MJO_s</th>\n",
       "      <th>MJO_a</th>\n",
       "      <th>MRG_a_1</th>\n",
       "      <th>TD_s_1</th>\n",
       "      <th>WIG_s</th>\n",
       "      <th>CARIBE_u_1</th>\n",
       "      <th>CARIBE_v</th>\n",
       "      <th>CHOCO_u_2</th>\n",
       "      <th>CHOCO_v_1</th>\n",
       "      <th>ORINOQUIA_u_3</th>\n",
       "      <th>ORINOQUIA_v_3</th>\n",
       "      <th>PPT_ERA5_1</th>\n",
       "      <th>PPT_ERA_acum</th>\n",
       "      <th>Tendencia</th>\n",
       "      <th>Caudal_antes</th>\n",
       "      <th>Caudal</th>\n",
       "    </tr>\n",
       "  </thead>\n",
       "  <tbody>\n",
       "    <tr>\n",
       "      <th>2001-02-04</th>\n",
       "      <td>-1.051678</td>\n",
       "      <td>-0.276685</td>\n",
       "      <td>-0.430968</td>\n",
       "      <td>-1.915202</td>\n",
       "      <td>-0.221711</td>\n",
       "      <td>-0.999407</td>\n",
       "      <td>0.189864</td>\n",
       "      <td>1.356218</td>\n",
       "      <td>-0.854776</td>\n",
       "      <td>0.173309</td>\n",
       "      <td>0.657138</td>\n",
       "      <td>0.406423</td>\n",
       "      <td>0.790229</td>\n",
       "      <td>0.027802</td>\n",
       "      <td>-0.261436</td>\n",
       "      <td>-0.945376</td>\n",
       "      <td>-0.009557</td>\n",
       "      <td>-0.922385</td>\n",
       "      <td>-0.844614</td>\n",
       "    </tr>\n",
       "    <tr>\n",
       "      <th>2001-02-05</th>\n",
       "      <td>0.980666</td>\n",
       "      <td>0.077786</td>\n",
       "      <td>-1.018302</td>\n",
       "      <td>-1.802873</td>\n",
       "      <td>-0.258568</td>\n",
       "      <td>-0.698218</td>\n",
       "      <td>0.588437</td>\n",
       "      <td>-0.750970</td>\n",
       "      <td>-0.853206</td>\n",
       "      <td>0.256651</td>\n",
       "      <td>0.264757</td>\n",
       "      <td>0.481042</td>\n",
       "      <td>0.667065</td>\n",
       "      <td>-0.801184</td>\n",
       "      <td>-0.571512</td>\n",
       "      <td>-0.994942</td>\n",
       "      <td>0.448630</td>\n",
       "      <td>-0.844614</td>\n",
       "      <td>-0.736816</td>\n",
       "    </tr>\n",
       "    <tr>\n",
       "      <th>2001-02-06</th>\n",
       "      <td>-0.411171</td>\n",
       "      <td>0.349642</td>\n",
       "      <td>-0.825080</td>\n",
       "      <td>-1.688833</td>\n",
       "      <td>-0.300774</td>\n",
       "      <td>1.305725</td>\n",
       "      <td>-0.870216</td>\n",
       "      <td>0.353664</td>\n",
       "      <td>-0.718274</td>\n",
       "      <td>-0.169569</td>\n",
       "      <td>-0.028711</td>\n",
       "      <td>0.108714</td>\n",
       "      <td>0.989822</td>\n",
       "      <td>0.045527</td>\n",
       "      <td>-0.378675</td>\n",
       "      <td>-1.097448</td>\n",
       "      <td>-0.021420</td>\n",
       "      <td>-0.736816</td>\n",
       "      <td>-0.755708</td>\n",
       "    </tr>\n",
       "    <tr>\n",
       "      <th>2001-02-07</th>\n",
       "      <td>0.158784</td>\n",
       "      <td>0.473613</td>\n",
       "      <td>-0.334514</td>\n",
       "      <td>-1.557663</td>\n",
       "      <td>-0.312699</td>\n",
       "      <td>1.369336</td>\n",
       "      <td>0.227957</td>\n",
       "      <td>-0.101831</td>\n",
       "      <td>-0.490630</td>\n",
       "      <td>-0.582363</td>\n",
       "      <td>-0.112370</td>\n",
       "      <td>-0.542653</td>\n",
       "      <td>0.838229</td>\n",
       "      <td>0.274223</td>\n",
       "      <td>-0.118000</td>\n",
       "      <td>-1.076379</td>\n",
       "      <td>-0.122681</td>\n",
       "      <td>-0.755708</td>\n",
       "      <td>-0.509902</td>\n",
       "    </tr>\n",
       "    <tr>\n",
       "      <th>2001-02-08</th>\n",
       "      <td>-0.217209</td>\n",
       "      <td>0.502007</td>\n",
       "      <td>0.428871</td>\n",
       "      <td>-1.344616</td>\n",
       "      <td>-0.370687</td>\n",
       "      <td>-0.404756</td>\n",
       "      <td>1.743677</td>\n",
       "      <td>-0.109453</td>\n",
       "      <td>-1.087934</td>\n",
       "      <td>-0.743249</td>\n",
       "      <td>-0.623100</td>\n",
       "      <td>-1.080538</td>\n",
       "      <td>0.736102</td>\n",
       "      <td>0.620644</td>\n",
       "      <td>0.092382</td>\n",
       "      <td>-1.020459</td>\n",
       "      <td>0.274105</td>\n",
       "      <td>-0.509902</td>\n",
       "      <td>-0.622564</td>\n",
       "    </tr>\n",
       "  </tbody>\n",
       "</table>\n",
       "</div>"
      ],
      "text/plain": [
       "               EIG_a    ER_s_2  Kelvin_s_1     MJO_s     MJO_a   MRG_a_1  \\\n",
       "2001-02-04 -1.051678 -0.276685   -0.430968 -1.915202 -0.221711 -0.999407   \n",
       "2001-02-05  0.980666  0.077786   -1.018302 -1.802873 -0.258568 -0.698218   \n",
       "2001-02-06 -0.411171  0.349642   -0.825080 -1.688833 -0.300774  1.305725   \n",
       "2001-02-07  0.158784  0.473613   -0.334514 -1.557663 -0.312699  1.369336   \n",
       "2001-02-08 -0.217209  0.502007    0.428871 -1.344616 -0.370687 -0.404756   \n",
       "\n",
       "              TD_s_1     WIG_s  CARIBE_u_1  CARIBE_v  CHOCO_u_2  CHOCO_v_1  \\\n",
       "2001-02-04  0.189864  1.356218   -0.854776  0.173309   0.657138   0.406423   \n",
       "2001-02-05  0.588437 -0.750970   -0.853206  0.256651   0.264757   0.481042   \n",
       "2001-02-06 -0.870216  0.353664   -0.718274 -0.169569  -0.028711   0.108714   \n",
       "2001-02-07  0.227957 -0.101831   -0.490630 -0.582363  -0.112370  -0.542653   \n",
       "2001-02-08  1.743677 -0.109453   -1.087934 -0.743249  -0.623100  -1.080538   \n",
       "\n",
       "            ORINOQUIA_u_3  ORINOQUIA_v_3  PPT_ERA5_1  PPT_ERA_acum  Tendencia  \\\n",
       "2001-02-04       0.790229       0.027802   -0.261436     -0.945376  -0.009557   \n",
       "2001-02-05       0.667065      -0.801184   -0.571512     -0.994942   0.448630   \n",
       "2001-02-06       0.989822       0.045527   -0.378675     -1.097448  -0.021420   \n",
       "2001-02-07       0.838229       0.274223   -0.118000     -1.076379  -0.122681   \n",
       "2001-02-08       0.736102       0.620644    0.092382     -1.020459   0.274105   \n",
       "\n",
       "            Caudal_antes    Caudal  \n",
       "2001-02-04     -0.922385 -0.844614  \n",
       "2001-02-05     -0.844614 -0.736816  \n",
       "2001-02-06     -0.736816 -0.755708  \n",
       "2001-02-07     -0.755708 -0.509902  \n",
       "2001-02-08     -0.509902 -0.622564  "
      ]
     },
     "execution_count": 4,
     "metadata": {},
     "output_type": "execute_result"
    }
   ],
   "source": [
    "datos_anomalias_rez.head(5)"
   ]
  },
  {
   "cell_type": "code",
   "execution_count": 5,
   "id": "7da60917",
   "metadata": {
    "scrolled": true
   },
   "outputs": [
    {
     "data": {
      "text/html": [
       "<div>\n",
       "<style scoped>\n",
       "    .dataframe tbody tr th:only-of-type {\n",
       "        vertical-align: middle;\n",
       "    }\n",
       "\n",
       "    .dataframe tbody tr th {\n",
       "        vertical-align: top;\n",
       "    }\n",
       "\n",
       "    .dataframe thead th {\n",
       "        text-align: right;\n",
       "    }\n",
       "</style>\n",
       "<table border=\"1\" class=\"dataframe\">\n",
       "  <thead>\n",
       "    <tr style=\"text-align: right;\">\n",
       "      <th></th>\n",
       "      <th>EIG_a</th>\n",
       "      <th>ER_s_2</th>\n",
       "      <th>Kelvin_s_1</th>\n",
       "      <th>MJO_s</th>\n",
       "      <th>MJO_a</th>\n",
       "      <th>MRG_a_1</th>\n",
       "      <th>TD_s_1</th>\n",
       "      <th>WIG_s</th>\n",
       "      <th>CARIBE_u_1</th>\n",
       "      <th>CARIBE_v</th>\n",
       "      <th>CHOCO_u_2</th>\n",
       "      <th>CHOCO_v_1</th>\n",
       "      <th>ORINOQUIA_u_3</th>\n",
       "      <th>ORINOQUIA_v_3</th>\n",
       "      <th>PPT_ERA5_1</th>\n",
       "      <th>PPT_ERA_acum</th>\n",
       "      <th>Tendencia</th>\n",
       "      <th>Caudal_antes</th>\n",
       "      <th>Caudal</th>\n",
       "    </tr>\n",
       "  </thead>\n",
       "  <tbody>\n",
       "    <tr>\n",
       "      <th>2020-11-16</th>\n",
       "      <td>-0.599921</td>\n",
       "      <td>0.067958</td>\n",
       "      <td>0.396364</td>\n",
       "      <td>0.771161</td>\n",
       "      <td>-0.045233</td>\n",
       "      <td>-0.046844</td>\n",
       "      <td>-1.060218</td>\n",
       "      <td>-1.282569</td>\n",
       "      <td>-0.990321</td>\n",
       "      <td>2.047863</td>\n",
       "      <td>0.656504</td>\n",
       "      <td>1.227632</td>\n",
       "      <td>0.507192</td>\n",
       "      <td>1.436769</td>\n",
       "      <td>0.164151</td>\n",
       "      <td>1.550550</td>\n",
       "      <td>-0.851412</td>\n",
       "      <td>0.145710</td>\n",
       "      <td>0.351473</td>\n",
       "    </tr>\n",
       "    <tr>\n",
       "      <th>2020-11-17</th>\n",
       "      <td>0.306466</td>\n",
       "      <td>1.375832</td>\n",
       "      <td>-1.087078</td>\n",
       "      <td>0.554715</td>\n",
       "      <td>0.068867</td>\n",
       "      <td>-0.362161</td>\n",
       "      <td>0.104271</td>\n",
       "      <td>1.183600</td>\n",
       "      <td>-0.702034</td>\n",
       "      <td>0.853650</td>\n",
       "      <td>1.017525</td>\n",
       "      <td>1.497366</td>\n",
       "      <td>0.163669</td>\n",
       "      <td>0.127170</td>\n",
       "      <td>1.015514</td>\n",
       "      <td>1.791056</td>\n",
       "      <td>0.294146</td>\n",
       "      <td>0.351473</td>\n",
       "      <td>1.105822</td>\n",
       "    </tr>\n",
       "    <tr>\n",
       "      <th>2020-11-18</th>\n",
       "      <td>-0.059226</td>\n",
       "      <td>2.161020</td>\n",
       "      <td>-1.925929</td>\n",
       "      <td>0.316236</td>\n",
       "      <td>0.115480</td>\n",
       "      <td>-0.711619</td>\n",
       "      <td>1.267891</td>\n",
       "      <td>-1.014084</td>\n",
       "      <td>-0.127797</td>\n",
       "      <td>1.374094</td>\n",
       "      <td>1.476727</td>\n",
       "      <td>1.679899</td>\n",
       "      <td>0.454942</td>\n",
       "      <td>-0.922149</td>\n",
       "      <td>2.848677</td>\n",
       "      <td>2.118740</td>\n",
       "      <td>1.135540</td>\n",
       "      <td>1.105822</td>\n",
       "      <td>1.093769</td>\n",
       "    </tr>\n",
       "    <tr>\n",
       "      <th>2020-11-19</th>\n",
       "      <td>-1.514437</td>\n",
       "      <td>2.433842</td>\n",
       "      <td>0.053876</td>\n",
       "      <td>0.062022</td>\n",
       "      <td>0.191969</td>\n",
       "      <td>-0.002282</td>\n",
       "      <td>0.169997</td>\n",
       "      <td>0.867195</td>\n",
       "      <td>0.432633</td>\n",
       "      <td>1.184246</td>\n",
       "      <td>0.692574</td>\n",
       "      <td>1.252625</td>\n",
       "      <td>-0.237748</td>\n",
       "      <td>0.107236</td>\n",
       "      <td>-0.514540</td>\n",
       "      <td>1.987858</td>\n",
       "      <td>-0.252159</td>\n",
       "      <td>1.093769</td>\n",
       "      <td>1.449177</td>\n",
       "    </tr>\n",
       "    <tr>\n",
       "      <th>2020-11-20</th>\n",
       "      <td>2.393110</td>\n",
       "      <td>2.144361</td>\n",
       "      <td>2.108373</td>\n",
       "      <td>-0.221124</td>\n",
       "      <td>0.251789</td>\n",
       "      <td>0.745562</td>\n",
       "      <td>0.104523</td>\n",
       "      <td>-0.612210</td>\n",
       "      <td>-0.050996</td>\n",
       "      <td>1.091793</td>\n",
       "      <td>0.329082</td>\n",
       "      <td>-0.048887</td>\n",
       "      <td>0.655757</td>\n",
       "      <td>1.005558</td>\n",
       "      <td>-0.089013</td>\n",
       "      <td>1.929483</td>\n",
       "      <td>0.023096</td>\n",
       "      <td>1.449177</td>\n",
       "      <td>0.572769</td>\n",
       "    </tr>\n",
       "  </tbody>\n",
       "</table>\n",
       "</div>"
      ],
      "text/plain": [
       "               EIG_a    ER_s_2  Kelvin_s_1     MJO_s     MJO_a   MRG_a_1  \\\n",
       "2020-11-16 -0.599921  0.067958    0.396364  0.771161 -0.045233 -0.046844   \n",
       "2020-11-17  0.306466  1.375832   -1.087078  0.554715  0.068867 -0.362161   \n",
       "2020-11-18 -0.059226  2.161020   -1.925929  0.316236  0.115480 -0.711619   \n",
       "2020-11-19 -1.514437  2.433842    0.053876  0.062022  0.191969 -0.002282   \n",
       "2020-11-20  2.393110  2.144361    2.108373 -0.221124  0.251789  0.745562   \n",
       "\n",
       "              TD_s_1     WIG_s  CARIBE_u_1  CARIBE_v  CHOCO_u_2  CHOCO_v_1  \\\n",
       "2020-11-16 -1.060218 -1.282569   -0.990321  2.047863   0.656504   1.227632   \n",
       "2020-11-17  0.104271  1.183600   -0.702034  0.853650   1.017525   1.497366   \n",
       "2020-11-18  1.267891 -1.014084   -0.127797  1.374094   1.476727   1.679899   \n",
       "2020-11-19  0.169997  0.867195    0.432633  1.184246   0.692574   1.252625   \n",
       "2020-11-20  0.104523 -0.612210   -0.050996  1.091793   0.329082  -0.048887   \n",
       "\n",
       "            ORINOQUIA_u_3  ORINOQUIA_v_3  PPT_ERA5_1  PPT_ERA_acum  Tendencia  \\\n",
       "2020-11-16       0.507192       1.436769    0.164151      1.550550  -0.851412   \n",
       "2020-11-17       0.163669       0.127170    1.015514      1.791056   0.294146   \n",
       "2020-11-18       0.454942      -0.922149    2.848677      2.118740   1.135540   \n",
       "2020-11-19      -0.237748       0.107236   -0.514540      1.987858  -0.252159   \n",
       "2020-11-20       0.655757       1.005558   -0.089013      1.929483   0.023096   \n",
       "\n",
       "            Caudal_antes    Caudal  \n",
       "2020-11-16      0.145710  0.351473  \n",
       "2020-11-17      0.351473  1.105822  \n",
       "2020-11-18      1.105822  1.093769  \n",
       "2020-11-19      1.093769  1.449177  \n",
       "2020-11-20      1.449177  0.572769  "
      ]
     },
     "execution_count": 5,
     "metadata": {},
     "output_type": "execute_result"
    }
   ],
   "source": [
    "datos_anomalias_rez.tail(5)"
   ]
  },
  {
   "cell_type": "code",
   "execution_count": 6,
   "id": "d65be84f",
   "metadata": {
    "scrolled": true
   },
   "outputs": [
    {
     "name": "stdout",
     "output_type": "stream",
     "text": [
      "(6497, 19)\n"
     ]
    }
   ],
   "source": [
    "print(datos_anomalias_rez.shape)"
   ]
  },
  {
   "cell_type": "markdown",
   "id": "bb3632c7",
   "metadata": {},
   "source": [
    "### Definición de variables independientes y dependiente"
   ]
  },
  {
   "cell_type": "code",
   "execution_count": 7,
   "id": "6bbbde73",
   "metadata": {},
   "outputs": [],
   "source": [
    "X = datos_anomalias_rez.drop(['Caudal'],axis=1)\n",
    "y = datos_anomalias_rez['Caudal']"
   ]
  },
  {
   "cell_type": "markdown",
   "id": "cab81d5f",
   "metadata": {},
   "source": [
    "### Selección con base en la varianza"
   ]
  },
  {
   "cell_type": "code",
   "execution_count": 8,
   "id": "62a94901",
   "metadata": {},
   "outputs": [
    {
     "name": "stdout",
     "output_type": "stream",
     "text": [
      "18\n",
      "Index(['EIG_a', 'ER_s_2', 'Kelvin_s_1', 'MJO_s', 'MJO_a', 'MRG_a_1', 'TD_s_1',\n",
      "       'WIG_s', 'CARIBE_u_1', 'CARIBE_v', 'CHOCO_u_2', 'CHOCO_v_1',\n",
      "       'ORINOQUIA_u_3', 'ORINOQUIA_v_3', 'PPT_ERA5_1', 'PPT_ERA_acum',\n",
      "       'Tendencia', 'Caudal_antes'],\n",
      "      dtype='object')\n"
     ]
    }
   ],
   "source": [
    "from sklearn.feature_selection import VarianceThreshold\n",
    "\n",
    "selector = VarianceThreshold(threshold=0.5)\n",
    "selector.fit(X)\n",
    "seleccionadas = X.columns[selector.get_support()]\n",
    "print(len(seleccionadas))\n",
    "print(seleccionadas)"
   ]
  },
  {
   "cell_type": "markdown",
   "id": "81b43775",
   "metadata": {},
   "source": [
    "Por este lado, todas sirven."
   ]
  },
  {
   "cell_type": "markdown",
   "id": "91113739",
   "metadata": {},
   "source": [
    "### Kbest con información mutua y lineal"
   ]
  },
  {
   "cell_type": "code",
   "execution_count": 9,
   "id": "46d18dcc",
   "metadata": {},
   "outputs": [],
   "source": [
    "from sklearn.feature_selection import SelectKBest\n",
    "from sklearn.feature_selection import mutual_info_regression, f_regression"
   ]
  },
  {
   "cell_type": "code",
   "execution_count": 10,
   "id": "107ae58e",
   "metadata": {},
   "outputs": [
    {
     "data": {
      "text/plain": [
       "Index(['ER_s_2', 'MJO_s', 'MJO_a', 'CARIBE_u_1', 'CHOCO_u_2', 'CHOCO_v_1',\n",
       "       'PPT_ERA5_1', 'PPT_ERA_acum', 'Tendencia', 'Caudal_antes'],\n",
       "      dtype='object')"
      ]
     },
     "execution_count": 10,
     "metadata": {},
     "output_type": "execute_result"
    }
   ],
   "source": [
    "variables = SelectKBest(score_func=mutual_info_regression, k=10)\n",
    "variables.fit(X,y)\n",
    "X.columns[variables.get_support()]"
   ]
  },
  {
   "cell_type": "code",
   "execution_count": 11,
   "id": "2069a686",
   "metadata": {
    "scrolled": true
   },
   "outputs": [
    {
     "data": {
      "text/plain": [
       "Index(['Kelvin_s_1', 'CARIBE_u_1', 'CHOCO_u_2', 'CHOCO_v_1', 'ORINOQUIA_u_3',\n",
       "       'ORINOQUIA_v_3', 'PPT_ERA5_1', 'PPT_ERA_acum', 'Tendencia',\n",
       "       'Caudal_antes'],\n",
       "      dtype='object')"
      ]
     },
     "execution_count": 11,
     "metadata": {},
     "output_type": "execute_result"
    }
   ],
   "source": [
    "variables = SelectKBest(score_func=f_regression, k=10)\n",
    "variables.fit(X,y)\n",
    "X.columns[variables.get_support()]"
   ]
  },
  {
   "cell_type": "markdown",
   "id": "196f88c1",
   "metadata": {},
   "source": [
    "### Eliminación de variables recursiva"
   ]
  },
  {
   "cell_type": "code",
   "execution_count": 12,
   "id": "4acb4eab",
   "metadata": {},
   "outputs": [],
   "source": [
    "from sklearn.feature_selection import RFE\n",
    "from sklearn.linear_model import LinearRegression"
   ]
  },
  {
   "cell_type": "code",
   "execution_count": 13,
   "id": "72eb5d43",
   "metadata": {},
   "outputs": [
    {
     "name": "stdout",
     "output_type": "stream",
     "text": [
      "1\n",
      "Index(['Caudal_antes'], dtype='object')\n",
      "Index(['Caudal_antes', 'PPT_ERA5_1', 'Tendencia', 'PPT_ERA_acum', 'CARIBE_u_1',\n",
      "       'EIG_a', 'WIG_s', 'TD_s_1', 'CARIBE_v', 'CHOCO_v_1', 'MRG_a_1',\n",
      "       'Kelvin_s_1', 'ORINOQUIA_u_3', 'CHOCO_u_2', 'ER_s_2', 'ORINOQUIA_v_3',\n",
      "       'MJO_s', 'MJO_a'],\n",
      "      dtype='object')\n",
      "Index(['Caudal_antes', 'PPT_ERA5_1', 'Tendencia', 'PPT_ERA_acum', 'CARIBE_u_1',\n",
      "       'EIG_a', 'WIG_s', 'TD_s_1', 'CARIBE_v', 'CHOCO_v_1'],\n",
      "      dtype='object')\n"
     ]
    }
   ],
   "source": [
    "rfe=RFE(estimator=LinearRegression(),n_features_to_select = 1, step = 1)\n",
    "fit=rfe.fit(X,y)\n",
    "print(fit.n_features_)\n",
    "print(X.columns[fit.support_])\n",
    "\n",
    "pos = np.argsort(fit.ranking_)\n",
    "print(X.columns[pos])\n",
    "print(X.columns[pos][:10])"
   ]
  },
  {
   "cell_type": "markdown",
   "id": "a65e06cb",
   "metadata": {},
   "source": [
    "### Seleccionar desde un modelo"
   ]
  },
  {
   "cell_type": "code",
   "execution_count": 14,
   "id": "0c1626d7",
   "metadata": {},
   "outputs": [
    {
     "data": {
      "text/plain": [
       "Index(['PPT_ERA5_1', 'Tendencia', 'Caudal_antes'], dtype='object')"
      ]
     },
     "execution_count": 14,
     "metadata": {},
     "output_type": "execute_result"
    }
   ],
   "source": [
    "from sklearn.feature_selection import SelectFromModel\n",
    "sfm_selector = SelectFromModel(estimator= LinearRegression())\n",
    "sfm_selector.fit(X, y)\n",
    "X.columns[sfm_selector.get_support()]"
   ]
  },
  {
   "cell_type": "code",
   "execution_count": 15,
   "id": "79a1a99a",
   "metadata": {
    "scrolled": true
   },
   "outputs": [
    {
     "data": {
      "image/png": "[encoded data removed]",
      "text/plain": [
       "<Figure size 432x288 with 1 Axes>"
      ]
     },
     "metadata": {
      "needs_background": "light"
     },
     "output_type": "display_data"
    }
   ],
   "source": [
    "plt.plot(X.columns, sfm_selector.estimator_.coef_)\n",
    "plt.xticks(rotation = 90)\n",
    "plt.ylabel('score')\n",
    "plt.savefig(ruta_imagenes+'Seleccion_variables_from_lr.png', bbox_inches='tight', dpi=150)"
   ]
  },
  {
   "cell_type": "markdown",
   "id": "40b62186",
   "metadata": {},
   "source": [
    "### Selección con modelo y validación cruzada"
   ]
  },
  {
   "cell_type": "code",
   "execution_count": 16,
   "id": "65b0be84",
   "metadata": {},
   "outputs": [],
   "source": [
    "from sklearn.feature_selection import  SequentialFeatureSelector"
   ]
  },
  {
   "cell_type": "code",
   "execution_count": 17,
   "id": "8cbe667f",
   "metadata": {},
   "outputs": [
    {
     "data": {
      "text/plain": [
       "Index(['EIG_a', 'MRG_a_1', 'TD_s_1', 'WIG_s', 'CARIBE_u_1', 'CHOCO_u_2',\n",
       "       'PPT_ERA5_1', 'PPT_ERA_acum', 'Tendencia', 'Caudal_antes'],\n",
       "      dtype='object')"
      ]
     },
     "execution_count": 17,
     "metadata": {},
     "output_type": "execute_result"
    }
   ],
   "source": [
    "sfs_selector = SequentialFeatureSelector(estimator=LinearRegression(), n_features_to_select = 10, cv =10, direction ='backward')\n",
    "sfs_selector.fit(X, y)\n",
    "X.columns[sfs_selector.get_support()]"
   ]
  },
  {
   "cell_type": "markdown",
   "id": "67e8e723",
   "metadata": {},
   "source": [
    "### Selección de variables con ELI5"
   ]
  },
  {
   "cell_type": "code",
   "execution_count": 18,
   "id": "7e105628",
   "metadata": {},
   "outputs": [],
   "source": [
    "import eli5\n",
    "from eli5.sklearn import PermutationImportance"
   ]
  },
  {
   "cell_type": "code",
   "execution_count": 19,
   "id": "a2e310a5",
   "metadata": {},
   "outputs": [
    {
     "data": {
      "text/html": [
       "\n",
       "    <style>\n",
       "    table.eli5-weights tr:hover {\n",
       "        filter: brightness(85%);\n",
       "    }\n",
       "</style>\n",
       "\n",
       "\n",
       "\n",
       "    \n",
       "\n",
       "    \n",
       "\n",
       "    \n",
       "\n",
       "    \n",
       "\n",
       "    \n",
       "\n",
       "    \n",
       "\n",
       "\n",
       "    \n",
       "\n",
       "    \n",
       "\n",
       "    \n",
       "\n",
       "    \n",
       "        \n",
       "\n",
       "    \n",
       "\n",
       "        \n",
       "            \n",
       "                \n",
       "                \n",
       "    \n",
       "        <p style=\"margin-bottom: 0.5em; margin-top: 0em\">\n",
       "            <b>\n",
       "    \n",
       "        y\n",
       "    \n",
       "</b>\n",
       "\n",
       "top features\n",
       "        </p>\n",
       "    \n",
       "    <table class=\"eli5-weights\"\n",
       "           style=\"border-collapse: collapse; border: none; margin-top: 0em; table-layout: auto; margin-bottom: 2em;\">\n",
       "        <thead>\n",
       "        <tr style=\"border: none;\">\n",
       "            \n",
       "                <th style=\"padding: 0 1em 0 0.5em; text-align: right; border: none;\" title=\"Feature weights. Note that weights do not account for feature value scales, so if feature values have different scales, features with highest weights might not be the most important.\">\n",
       "                    Weight<sup>?</sup>\n",
       "                </th>\n",
       "            \n",
       "            <th style=\"padding: 0 0.5em 0 0.5em; text-align: left; border: none;\">Feature</th>\n",
       "            \n",
       "        </tr>\n",
       "        </thead>\n",
       "        <tbody>\n",
       "        \n",
       "            <tr style=\"background-color: hsl(120, 100.00%, 80.00%); border: none;\">\n",
       "    <td style=\"padding: 0 1em 0 0.5em; text-align: right; border: none;\">\n",
       "        +0.761\n",
       "    </td>\n",
       "    <td style=\"padding: 0 0.5em 0 0.5em; text-align: left; border: none;\">\n",
       "        x17\n",
       "    </td>\n",
       "    \n",
       "</tr>\n",
       "        \n",
       "            <tr style=\"background-color: hsl(120, 100.00%, 94.51%); border: none;\">\n",
       "    <td style=\"padding: 0 1em 0 0.5em; text-align: right; border: none;\">\n",
       "        +0.120\n",
       "    </td>\n",
       "    <td style=\"padding: 0 0.5em 0 0.5em; text-align: left; border: none;\">\n",
       "        x14\n",
       "    </td>\n",
       "    \n",
       "</tr>\n",
       "        \n",
       "            <tr style=\"background-color: hsl(120, 100.00%, 97.08%); border: none;\">\n",
       "    <td style=\"padding: 0 1em 0 0.5em; text-align: right; border: none;\">\n",
       "        +0.049\n",
       "    </td>\n",
       "    <td style=\"padding: 0 0.5em 0 0.5em; text-align: left; border: none;\">\n",
       "        x15\n",
       "    </td>\n",
       "    \n",
       "</tr>\n",
       "        \n",
       "            <tr style=\"background-color: hsl(120, 100.00%, 97.26%); border: none;\">\n",
       "    <td style=\"padding: 0 1em 0 0.5em; text-align: right; border: none;\">\n",
       "        +0.044\n",
       "    </td>\n",
       "    <td style=\"padding: 0 0.5em 0 0.5em; text-align: left; border: none;\">\n",
       "        x8\n",
       "    </td>\n",
       "    \n",
       "</tr>\n",
       "        \n",
       "            <tr style=\"background-color: hsl(120, 100.00%, 98.91%); border: none;\">\n",
       "    <td style=\"padding: 0 1em 0 0.5em; text-align: right; border: none;\">\n",
       "        +0.012\n",
       "    </td>\n",
       "    <td style=\"padding: 0 0.5em 0 0.5em; text-align: left; border: none;\">\n",
       "        x12\n",
       "    </td>\n",
       "    \n",
       "</tr>\n",
       "        \n",
       "            <tr style=\"background-color: hsl(120, 100.00%, 98.93%); border: none;\">\n",
       "    <td style=\"padding: 0 1em 0 0.5em; text-align: right; border: none;\">\n",
       "        +0.012\n",
       "    </td>\n",
       "    <td style=\"padding: 0 0.5em 0 0.5em; text-align: left; border: none;\">\n",
       "        x11\n",
       "    </td>\n",
       "    \n",
       "</tr>\n",
       "        \n",
       "            <tr style=\"background-color: hsl(120, 100.00%, 99.30%); border: none;\">\n",
       "    <td style=\"padding: 0 1em 0 0.5em; text-align: right; border: none;\">\n",
       "        +0.006\n",
       "    </td>\n",
       "    <td style=\"padding: 0 0.5em 0 0.5em; text-align: left; border: none;\">\n",
       "        x10\n",
       "    </td>\n",
       "    \n",
       "</tr>\n",
       "        \n",
       "            <tr style=\"background-color: hsl(120, 100.00%, 99.39%); border: none;\">\n",
       "    <td style=\"padding: 0 1em 0 0.5em; text-align: right; border: none;\">\n",
       "        +0.005\n",
       "    </td>\n",
       "    <td style=\"padding: 0 0.5em 0 0.5em; text-align: left; border: none;\">\n",
       "        x13\n",
       "    </td>\n",
       "    \n",
       "</tr>\n",
       "        \n",
       "        \n",
       "\n",
       "        \n",
       "        \n",
       "            <tr style=\"background-color: hsl(0, 100.00%, 99.68%); border: none;\">\n",
       "    <td style=\"padding: 0 1em 0 0.5em; text-align: right; border: none;\">\n",
       "        -0.002\n",
       "    </td>\n",
       "    <td style=\"padding: 0 0.5em 0 0.5em; text-align: left; border: none;\">\n",
       "        x4\n",
       "    </td>\n",
       "    \n",
       "</tr>\n",
       "        \n",
       "            <tr style=\"background-color: hsl(0, 100.00%, 99.67%); border: none;\">\n",
       "    <td style=\"padding: 0 1em 0 0.5em; text-align: right; border: none;\">\n",
       "        -0.002\n",
       "    </td>\n",
       "    <td style=\"padding: 0 0.5em 0 0.5em; text-align: left; border: none;\">\n",
       "        x3\n",
       "    </td>\n",
       "    \n",
       "</tr>\n",
       "        \n",
       "            <tr style=\"background-color: hsl(0, 100.00%, 99.37%); border: none;\">\n",
       "    <td style=\"padding: 0 1em 0 0.5em; text-align: right; border: none;\">\n",
       "        -0.005\n",
       "    </td>\n",
       "    <td style=\"padding: 0 0.5em 0 0.5em; text-align: left; border: none;\">\n",
       "        x1\n",
       "    </td>\n",
       "    \n",
       "</tr>\n",
       "        \n",
       "            <tr style=\"background-color: hsl(0, 100.00%, 99.35%); border: none;\">\n",
       "    <td style=\"padding: 0 1em 0 0.5em; text-align: right; border: none;\">\n",
       "        -0.006\n",
       "    </td>\n",
       "    <td style=\"padding: 0 0.5em 0 0.5em; text-align: left; border: none;\">\n",
       "        &lt;BIAS&gt;\n",
       "    </td>\n",
       "    \n",
       "</tr>\n",
       "        \n",
       "            <tr style=\"background-color: hsl(0, 100.00%, 98.67%); border: none;\">\n",
       "    <td style=\"padding: 0 1em 0 0.5em; text-align: right; border: none;\">\n",
       "        -0.016\n",
       "    </td>\n",
       "    <td style=\"padding: 0 0.5em 0 0.5em; text-align: left; border: none;\">\n",
       "        x2\n",
       "    </td>\n",
       "    \n",
       "</tr>\n",
       "        \n",
       "            <tr style=\"background-color: hsl(0, 100.00%, 98.46%); border: none;\">\n",
       "    <td style=\"padding: 0 1em 0 0.5em; text-align: right; border: none;\">\n",
       "        -0.019\n",
       "    </td>\n",
       "    <td style=\"padding: 0 0.5em 0 0.5em; text-align: left; border: none;\">\n",
       "        x5\n",
       "    </td>\n",
       "    \n",
       "</tr>\n",
       "        \n",
       "            <tr style=\"background-color: hsl(0, 100.00%, 98.38%); border: none;\">\n",
       "    <td style=\"padding: 0 1em 0 0.5em; text-align: right; border: none;\">\n",
       "        -0.021\n",
       "    </td>\n",
       "    <td style=\"padding: 0 0.5em 0 0.5em; text-align: left; border: none;\">\n",
       "        x9\n",
       "    </td>\n",
       "    \n",
       "</tr>\n",
       "        \n",
       "            <tr style=\"background-color: hsl(0, 100.00%, 98.06%); border: none;\">\n",
       "    <td style=\"padding: 0 1em 0 0.5em; text-align: right; border: none;\">\n",
       "        -0.027\n",
       "    </td>\n",
       "    <td style=\"padding: 0 0.5em 0 0.5em; text-align: left; border: none;\">\n",
       "        x6\n",
       "    </td>\n",
       "    \n",
       "</tr>\n",
       "        \n",
       "            <tr style=\"background-color: hsl(0, 100.00%, 98.01%); border: none;\">\n",
       "    <td style=\"padding: 0 1em 0 0.5em; text-align: right; border: none;\">\n",
       "        -0.028\n",
       "    </td>\n",
       "    <td style=\"padding: 0 0.5em 0 0.5em; text-align: left; border: none;\">\n",
       "        x7\n",
       "    </td>\n",
       "    \n",
       "</tr>\n",
       "        \n",
       "            <tr style=\"background-color: hsl(0, 100.00%, 97.52%); border: none;\">\n",
       "    <td style=\"padding: 0 1em 0 0.5em; text-align: right; border: none;\">\n",
       "        -0.039\n",
       "    </td>\n",
       "    <td style=\"padding: 0 0.5em 0 0.5em; text-align: left; border: none;\">\n",
       "        x0\n",
       "    </td>\n",
       "    \n",
       "</tr>\n",
       "        \n",
       "            <tr style=\"background-color: hsl(0, 100.00%, 95.42%); border: none;\">\n",
       "    <td style=\"padding: 0 1em 0 0.5em; text-align: right; border: none;\">\n",
       "        -0.093\n",
       "    </td>\n",
       "    <td style=\"padding: 0 0.5em 0 0.5em; text-align: left; border: none;\">\n",
       "        x16\n",
       "    </td>\n",
       "    \n",
       "</tr>\n",
       "        \n",
       "\n",
       "        </tbody>\n",
       "    </table>\n",
       "\n",
       "            \n",
       "        \n",
       "\n",
       "        \n",
       "\n",
       "\n",
       "\n",
       "    \n",
       "\n",
       "    \n",
       "\n",
       "    \n",
       "\n",
       "    \n",
       "\n",
       "\n",
       "    \n",
       "\n",
       "    \n",
       "\n",
       "    \n",
       "\n",
       "    \n",
       "\n",
       "    \n",
       "\n",
       "    \n",
       "\n",
       "\n",
       "    \n",
       "\n",
       "    \n",
       "\n",
       "    \n",
       "\n",
       "    \n",
       "\n",
       "    \n",
       "\n",
       "    \n",
       "\n",
       "\n",
       "\n"
      ],
      "text/plain": [
       "<IPython.core.display.HTML object>"
      ]
     },
     "execution_count": 19,
     "metadata": {},
     "output_type": "execute_result"
    }
   ],
   "source": [
    "model = LinearRegression()\n",
    "model.fit(X,y)\n",
    "perm = PermutationImportance(model, random_state=1).fit(X, y)\n",
    "eli5.show_weights(model)"
   ]
  },
  {
   "cell_type": "markdown",
   "id": "c72f2c44",
   "metadata": {},
   "source": [
    "### Selección con un modelo ensamblado"
   ]
  },
  {
   "cell_type": "code",
   "execution_count": 20,
   "id": "75835c9e",
   "metadata": {},
   "outputs": [],
   "source": [
    "import shap\n",
    "from sklearn.ensemble import RandomForestRegressor"
   ]
  },
  {
   "cell_type": "code",
   "execution_count": 21,
   "id": "e830fd1f",
   "metadata": {},
   "outputs": [
    {
     "data": {
      "image/png": "[encoded data removed]",
      "text/plain": [
       "<Figure size 576x626.4 with 1 Axes>"
      ]
     },
     "metadata": {
      "needs_background": "light"
     },
     "output_type": "display_data"
    }
   ],
   "source": [
    "model = RandomForestRegressor(max_depth=6, random_state=0, n_estimators=10)\n",
    "model.fit(X, y)\n",
    "plt.figure(figsize=(10,10))\n",
    "shap_values = shap.TreeExplainer(model).shap_values(X)\n",
    "shap.summary_plot(shap_values, X, plot_type=\"bar\",show=False)\n",
    "plt.savefig(ruta_imagenes+'Seleccion_variables_from_rf.png', bbox_inches='tight', dpi=150)"
   ]
  },
  {
   "cell_type": "code",
   "execution_count": null,
   "id": "5ac92b11",
   "metadata": {},
   "outputs": [],
   "source": []
  }
 ],
 "metadata": {
  "kernelspec": {
   "display_name": "Python 3 (ipykernel)",
   "language": "python",
   "name": "python3"
  },
  "language_info": {
   "codemirror_mode": {
    "name": "ipython",
    "version": 3
   },
   "file_extension": ".py",
   "mimetype": "text/x-python",
   "name": "python",
   "nbconvert_exporter": "python",
   "pygments_lexer": "ipython3",
   "version": "3.7.10"
  }
 },
 "nbformat": 4,
 "nbformat_minor": 5
}
