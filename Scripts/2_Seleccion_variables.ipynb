{
 "cells": [
  {
   "cell_type": "markdown",
   "id": "2921b45a",
   "metadata": {},
   "source": [
    "### Selección de variables de acuerdo con los metodos vistos en clase"
   ]
  },
  {
   "cell_type": "code",
   "execution_count": 1,
   "id": "e89b7915",
   "metadata": {},
   "outputs": [],
   "source": [
    "import pandas as pd\n",
    "import numpy as np\n",
    "import os\n",
    "import glob\n",
    "import seaborn as sns\n",
    "import xarray as xr\n",
    "import matplotlib.pyplot as plt\n",
    "import datetime as dt\n",
    "import matplotlib as mpl\n",
    "import matplotlib.cm as cm\n",
    "mpl.rcParams['font.family'] = 'serif'\n",
    "mpl.rcParams['font.size'] = 10\n",
    "from Funciones import *"
   ]
  },
  {
   "cell_type": "code",
   "execution_count": 2,
   "id": "962d4fa7",
   "metadata": {},
   "outputs": [],
   "source": [
    "ruta_base  = os.path.dirname(os.path.abspath('./')) + '/'\n",
    "ruta_datos = ruta_base + 'Datos/'\n",
    "ruta_shp   = ruta_datos+ 'Shapefiles/'\n",
    "ruta_imagenes = ruta_base + 'Imagenes/'"
   ]
  },
  {
   "cell_type": "code",
   "execution_count": 3,
   "id": "16b7a207",
   "metadata": {},
   "outputs": [],
   "source": [
    "# Carga información y elimina datos nans\n",
    "\n",
    "datos_anomalias_rez = pd.read_csv(ruta_datos+'Anomalias_rezagadas_datos.csv', index_col=0, parse_dates=True)\n",
    "datos_anomalias_rez = datos_anomalias_rez.iloc[~datos_anomalias_rez.isna().any(axis=1).values,:]"
   ]
  },
  {
   "cell_type": "code",
   "execution_count": 4,
   "id": "6d1b5aa7",
   "metadata": {
    "scrolled": true
   },
   "outputs": [],
   "source": [
    "#datos_anomalias_rez.head(5)"
   ]
  },
  {
   "cell_type": "code",
   "execution_count": 5,
   "id": "7da60917",
   "metadata": {
    "scrolled": true
   },
   "outputs": [],
   "source": [
    "#datos_anomalias_rez.tail(5)"
   ]
  },
  {
   "cell_type": "code",
   "execution_count": 6,
   "id": "d65be84f",
   "metadata": {
    "scrolled": true
   },
   "outputs": [
    {
     "name": "stdout",
     "output_type": "stream",
     "text": [
      "(6497, 19)\n"
     ]
    }
   ],
   "source": [
    "print(datos_anomalias_rez.shape)"
   ]
  },
  {
   "cell_type": "markdown",
   "id": "4c3b7363",
   "metadata": {},
   "source": [
    "### Solo tener en cuenta los datos de train"
   ]
  },
  {
   "cell_type": "code",
   "execution_count": 7,
   "id": "184dad6d",
   "metadata": {},
   "outputs": [],
   "source": [
    "f_train = '2016-12-31'\n",
    "f_test  = '2017-01-01'\n",
    "\n",
    "datos_anomalias_train = datos_anomalias_rez[:f_train]\n",
    "datos_anomalias_test  = datos_anomalias_rez[f_test:]"
   ]
  },
  {
   "cell_type": "markdown",
   "id": "bb3632c7",
   "metadata": {},
   "source": [
    "### Definición de variables independientes y dependiente"
   ]
  },
  {
   "cell_type": "code",
   "execution_count": 8,
   "id": "6bbbde73",
   "metadata": {},
   "outputs": [],
   "source": [
    "X = datos_anomalias_train.drop(['Caudal'],axis=1)\n",
    "y = datos_anomalias_train['Caudal']"
   ]
  },
  {
   "cell_type": "markdown",
   "id": "cab81d5f",
   "metadata": {},
   "source": [
    "### Selección con base en la varianza"
   ]
  },
  {
   "cell_type": "code",
   "execution_count": 9,
   "id": "62a94901",
   "metadata": {},
   "outputs": [
    {
     "name": "stdout",
     "output_type": "stream",
     "text": [
      "18\n",
      "Index(['EIG_a', 'ER_s_2', 'Kelvin_s_1', 'MJO_s', 'MJO_a', 'MRG_a_1', 'TD_s_1',\n",
      "       'WIG_s', 'CARIBE_u_1', 'CARIBE_v', 'CHOCO_u_2', 'CHOCO_v_1',\n",
      "       'ORINOQUIA_u_3', 'ORINOQUIA_v_3', 'PPT_ERA5_1', 'PPT_ERA_acum',\n",
      "       'Tendencia', 'Caudal_antes'],\n",
      "      dtype='object')\n"
     ]
    }
   ],
   "source": [
    "from sklearn.feature_selection import VarianceThreshold\n",
    "\n",
    "selector = VarianceThreshold(threshold=0.5)\n",
    "selector.fit(X)\n",
    "seleccionadas = X.columns[selector.get_support()]\n",
    "print(len(seleccionadas))\n",
    "print(seleccionadas)"
   ]
  },
  {
   "cell_type": "markdown",
   "id": "81b43775",
   "metadata": {},
   "source": [
    "Por este lado, todas sirven."
   ]
  },
  {
   "cell_type": "markdown",
   "id": "91113739",
   "metadata": {},
   "source": [
    "### Kbest con información mutua y lineal"
   ]
  },
  {
   "cell_type": "code",
   "execution_count": 10,
   "id": "46d18dcc",
   "metadata": {},
   "outputs": [],
   "source": [
    "from sklearn.feature_selection import SelectKBest\n",
    "from sklearn.feature_selection import mutual_info_regression, f_regression"
   ]
  },
  {
   "cell_type": "code",
   "execution_count": 11,
   "id": "107ae58e",
   "metadata": {},
   "outputs": [
    {
     "data": {
      "text/plain": [
       "Index(['MJO_s', 'MJO_a', 'TD_s_1', 'CARIBE_u_1', 'CHOCO_u_2', 'ORINOQUIA_v_3',\n",
       "       'PPT_ERA5_1', 'PPT_ERA_acum', 'Tendencia', 'Caudal_antes'],\n",
       "      dtype='object')"
      ]
     },
     "execution_count": 11,
     "metadata": {},
     "output_type": "execute_result"
    }
   ],
   "source": [
    "variables = SelectKBest(score_func=mutual_info_regression, k=10)\n",
    "variables.fit(X,y)\n",
    "X.columns[variables.get_support()]"
   ]
  },
  {
   "cell_type": "code",
   "execution_count": 12,
   "id": "2069a686",
   "metadata": {
    "scrolled": true
   },
   "outputs": [
    {
     "data": {
      "text/plain": [
       "Index(['Kelvin_s_1', 'CARIBE_u_1', 'CHOCO_u_2', 'CHOCO_v_1', 'ORINOQUIA_u_3',\n",
       "       'ORINOQUIA_v_3', 'PPT_ERA5_1', 'PPT_ERA_acum', 'Tendencia',\n",
       "       'Caudal_antes'],\n",
       "      dtype='object')"
      ]
     },
     "execution_count": 12,
     "metadata": {},
     "output_type": "execute_result"
    }
   ],
   "source": [
    "variables = SelectKBest(score_func=f_regression, k=10)\n",
    "variables.fit(X,y)\n",
    "X.columns[variables.get_support()]"
   ]
  },
  {
   "cell_type": "markdown",
   "id": "196f88c1",
   "metadata": {},
   "source": [
    "### Eliminación de variables recursiva"
   ]
  },
  {
   "cell_type": "code",
   "execution_count": 13,
   "id": "4acb4eab",
   "metadata": {},
   "outputs": [],
   "source": [
    "from sklearn.feature_selection import RFE\n",
    "from sklearn.linear_model import LinearRegression"
   ]
  },
  {
   "cell_type": "code",
   "execution_count": 14,
   "id": "72eb5d43",
   "metadata": {},
   "outputs": [
    {
     "name": "stdout",
     "output_type": "stream",
     "text": [
      "1\n",
      "Index(['Caudal_antes'], dtype='object')\n",
      "Index(['Caudal_antes', 'PPT_ERA5_1', 'Tendencia', 'PPT_ERA_acum', 'CARIBE_u_1',\n",
      "       'EIG_a', 'TD_s_1', 'Kelvin_s_1', 'CARIBE_v', 'WIG_s', 'ORINOQUIA_u_3',\n",
      "       'CHOCO_v_1', 'MRG_a_1', 'ORINOQUIA_v_3', 'MJO_s', 'ER_s_2', 'CHOCO_u_2',\n",
      "       'MJO_a'],\n",
      "      dtype='object')\n",
      "Index(['Caudal_antes', 'PPT_ERA5_1', 'Tendencia', 'PPT_ERA_acum', 'CARIBE_u_1',\n",
      "       'EIG_a', 'TD_s_1', 'Kelvin_s_1', 'CARIBE_v', 'WIG_s'],\n",
      "      dtype='object')\n"
     ]
    }
   ],
   "source": [
    "rfe=RFE(estimator=LinearRegression(),n_features_to_select = 1, step = 1)\n",
    "fit=rfe.fit(X,y)\n",
    "print(fit.n_features_)\n",
    "print(X.columns[fit.support_])\n",
    "\n",
    "pos = np.argsort(fit.ranking_)\n",
    "print(X.columns[pos])\n",
    "print(X.columns[pos][:10])"
   ]
  },
  {
   "cell_type": "markdown",
   "id": "a65e06cb",
   "metadata": {},
   "source": [
    "### Seleccionar desde un modelo"
   ]
  },
  {
   "cell_type": "code",
   "execution_count": 15,
   "id": "0c1626d7",
   "metadata": {},
   "outputs": [
    {
     "data": {
      "text/plain": [
       "Index(['PPT_ERA5_1', 'Tendencia', 'Caudal_antes'], dtype='object')"
      ]
     },
     "execution_count": 15,
     "metadata": {},
     "output_type": "execute_result"
    }
   ],
   "source": [
    "from sklearn.feature_selection import SelectFromModel\n",
    "sfm_selector = SelectFromModel(estimator= LinearRegression())\n",
    "sfm_selector.fit(X, y)\n",
    "X.columns[sfm_selector.get_support()]"
   ]
  },
  {
   "cell_type": "code",
   "execution_count": 16,
   "id": "79a1a99a",
   "metadata": {
    "scrolled": true
   },
   "outputs": [
    {
     "data": {
      "image/png": "[encoded data removed]",
      "text/plain": [
       "<Figure size 432x288 with 1 Axes>"
      ]
     },
     "metadata": {
      "needs_background": "light"
     },
     "output_type": "display_data"
    }
   ],
   "source": [
    "plt.plot(X.columns, sfm_selector.estimator_.coef_)\n",
    "plt.xticks(rotation = 90)\n",
    "plt.ylabel('score')\n",
    "plt.savefig(ruta_imagenes+'Seleccion_variables_from_lr.png', bbox_inches='tight', dpi=150)"
   ]
  },
  {
   "cell_type": "markdown",
   "id": "40b62186",
   "metadata": {},
   "source": [
    "### Selección con modelo y validación cruzada"
   ]
  },
  {
   "cell_type": "code",
   "execution_count": 17,
   "id": "65b0be84",
   "metadata": {},
   "outputs": [],
   "source": [
    "from sklearn.feature_selection import  SequentialFeatureSelector"
   ]
  },
  {
   "cell_type": "code",
   "execution_count": 18,
   "id": "8cbe667f",
   "metadata": {},
   "outputs": [
    {
     "data": {
      "text/plain": [
       "Index(['EIG_a', 'TD_s_1', 'WIG_s', 'CARIBE_u_1', 'CARIBE_v', 'CHOCO_v_1',\n",
       "       'PPT_ERA5_1', 'PPT_ERA_acum', 'Tendencia', 'Caudal_antes'],\n",
       "      dtype='object')"
      ]
     },
     "execution_count": 18,
     "metadata": {},
     "output_type": "execute_result"
    }
   ],
   "source": [
    "sfs_selector = SequentialFeatureSelector(estimator=LinearRegression(), n_features_to_select = 10, cv =10, direction ='backward')\n",
    "sfs_selector.fit(X, y)\n",
    "X.columns[sfs_selector.get_support()]"
   ]
  },
  {
   "cell_type": "markdown",
   "id": "67e8e723",
   "metadata": {},
   "source": [
    "### Selección de variables con ELI5"
   ]
  },
  {
   "cell_type": "code",
   "execution_count": 19,
   "id": "7e105628",
   "metadata": {},
   "outputs": [],
   "source": [
    "import eli5\n",
    "from eli5.sklearn import PermutationImportance"
   ]
  },
  {
   "cell_type": "code",
   "execution_count": 20,
   "id": "a2e310a5",
   "metadata": {},
   "outputs": [
    {
     "data": {
      "text/html": [
       "\n",
       "    <style>\n",
       "    table.eli5-weights tr:hover {\n",
       "        filter: brightness(85%);\n",
       "    }\n",
       "</style>\n",
       "\n",
       "\n",
       "\n",
       "    \n",
       "\n",
       "    \n",
       "\n",
       "    \n",
       "\n",
       "    \n",
       "\n",
       "    \n",
       "\n",
       "    \n",
       "\n",
       "\n",
       "    \n",
       "\n",
       "    \n",
       "\n",
       "    \n",
       "\n",
       "    \n",
       "        \n",
       "\n",
       "    \n",
       "\n",
       "        \n",
       "            \n",
       "                \n",
       "                \n",
       "    \n",
       "        <p style=\"margin-bottom: 0.5em; margin-top: 0em\">\n",
       "            <b>\n",
       "    \n",
       "        y\n",
       "    \n",
       "</b>\n",
       "\n",
       "top features\n",
       "        </p>\n",
       "    \n",
       "    <table class=\"eli5-weights\"\n",
       "           style=\"border-collapse: collapse; border: none; margin-top: 0em; table-layout: auto; margin-bottom: 2em;\">\n",
       "        <thead>\n",
       "        <tr style=\"border: none;\">\n",
       "            \n",
       "                <th style=\"padding: 0 1em 0 0.5em; text-align: right; border: none;\" title=\"Feature weights. Note that weights do not account for feature value scales, so if feature values have different scales, features with highest weights might not be the most important.\">\n",
       "                    Weight<sup>?</sup>\n",
       "                </th>\n",
       "            \n",
       "            <th style=\"padding: 0 0.5em 0 0.5em; text-align: left; border: none;\">Feature</th>\n",
       "            \n",
       "        </tr>\n",
       "        </thead>\n",
       "        <tbody>\n",
       "        \n",
       "            <tr style=\"background-color: hsl(120, 100.00%, 80.00%); border: none;\">\n",
       "    <td style=\"padding: 0 1em 0 0.5em; text-align: right; border: none;\">\n",
       "        +0.765\n",
       "    </td>\n",
       "    <td style=\"padding: 0 0.5em 0 0.5em; text-align: left; border: none;\">\n",
       "        x17\n",
       "    </td>\n",
       "    \n",
       "</tr>\n",
       "        \n",
       "            <tr style=\"background-color: hsl(120, 100.00%, 94.93%); border: none;\">\n",
       "    <td style=\"padding: 0 1em 0 0.5em; text-align: right; border: none;\">\n",
       "        +0.108\n",
       "    </td>\n",
       "    <td style=\"padding: 0 0.5em 0 0.5em; text-align: left; border: none;\">\n",
       "        x14\n",
       "    </td>\n",
       "    \n",
       "</tr>\n",
       "        \n",
       "            <tr style=\"background-color: hsl(120, 100.00%, 96.74%); border: none;\">\n",
       "    <td style=\"padding: 0 1em 0 0.5em; text-align: right; border: none;\">\n",
       "        +0.057\n",
       "    </td>\n",
       "    <td style=\"padding: 0 0.5em 0 0.5em; text-align: left; border: none;\">\n",
       "        x15\n",
       "    </td>\n",
       "    \n",
       "</tr>\n",
       "        \n",
       "            <tr style=\"background-color: hsl(120, 100.00%, 97.17%); border: none;\">\n",
       "    <td style=\"padding: 0 1em 0 0.5em; text-align: right; border: none;\">\n",
       "        +0.047\n",
       "    </td>\n",
       "    <td style=\"padding: 0 0.5em 0 0.5em; text-align: left; border: none;\">\n",
       "        x8\n",
       "    </td>\n",
       "    \n",
       "</tr>\n",
       "        \n",
       "            <tr style=\"background-color: hsl(120, 100.00%, 98.53%); border: none;\">\n",
       "    <td style=\"padding: 0 1em 0 0.5em; text-align: right; border: none;\">\n",
       "        +0.018\n",
       "    </td>\n",
       "    <td style=\"padding: 0 0.5em 0 0.5em; text-align: left; border: none;\">\n",
       "        x12\n",
       "    </td>\n",
       "    \n",
       "</tr>\n",
       "        \n",
       "            <tr style=\"background-color: hsl(120, 100.00%, 98.64%); border: none;\">\n",
       "    <td style=\"padding: 0 1em 0 0.5em; text-align: right; border: none;\">\n",
       "        +0.016\n",
       "    </td>\n",
       "    <td style=\"padding: 0 0.5em 0 0.5em; text-align: left; border: none;\">\n",
       "        x11\n",
       "    </td>\n",
       "    \n",
       "</tr>\n",
       "        \n",
       "            <tr style=\"background-color: hsl(120, 100.00%, 99.27%); border: none;\">\n",
       "    <td style=\"padding: 0 1em 0 0.5em; text-align: right; border: none;\">\n",
       "        +0.007\n",
       "    </td>\n",
       "    <td style=\"padding: 0 0.5em 0 0.5em; text-align: left; border: none;\">\n",
       "        x13\n",
       "    </td>\n",
       "    \n",
       "</tr>\n",
       "        \n",
       "            <tr style=\"background-color: hsl(120, 100.00%, 99.73%); border: none;\">\n",
       "    <td style=\"padding: 0 1em 0 0.5em; text-align: right; border: none;\">\n",
       "        +0.002\n",
       "    </td>\n",
       "    <td style=\"padding: 0 0.5em 0 0.5em; text-align: left; border: none;\">\n",
       "        &lt;BIAS&gt;\n",
       "    </td>\n",
       "    \n",
       "</tr>\n",
       "        \n",
       "        \n",
       "\n",
       "        \n",
       "        \n",
       "            <tr style=\"background-color: hsl(0, 100.00%, 99.93%); border: none;\">\n",
       "    <td style=\"padding: 0 1em 0 0.5em; text-align: right; border: none;\">\n",
       "        -0.000\n",
       "    </td>\n",
       "    <td style=\"padding: 0 0.5em 0 0.5em; text-align: left; border: none;\">\n",
       "        x4\n",
       "    </td>\n",
       "    \n",
       "</tr>\n",
       "        \n",
       "            <tr style=\"background-color: hsl(0, 100.00%, 99.89%); border: none;\">\n",
       "    <td style=\"padding: 0 1em 0 0.5em; text-align: right; border: none;\">\n",
       "        -0.000\n",
       "    </td>\n",
       "    <td style=\"padding: 0 0.5em 0 0.5em; text-align: left; border: none;\">\n",
       "        x10\n",
       "    </td>\n",
       "    \n",
       "</tr>\n",
       "        \n",
       "            <tr style=\"background-color: hsl(0, 100.00%, 99.88%); border: none;\">\n",
       "    <td style=\"padding: 0 1em 0 0.5em; text-align: right; border: none;\">\n",
       "        -0.001\n",
       "    </td>\n",
       "    <td style=\"padding: 0 0.5em 0 0.5em; text-align: left; border: none;\">\n",
       "        x1\n",
       "    </td>\n",
       "    \n",
       "</tr>\n",
       "        \n",
       "            <tr style=\"background-color: hsl(0, 100.00%, 99.48%); border: none;\">\n",
       "    <td style=\"padding: 0 1em 0 0.5em; text-align: right; border: none;\">\n",
       "        -0.004\n",
       "    </td>\n",
       "    <td style=\"padding: 0 0.5em 0 0.5em; text-align: left; border: none;\">\n",
       "        x3\n",
       "    </td>\n",
       "    \n",
       "</tr>\n",
       "        \n",
       "            <tr style=\"background-color: hsl(0, 100.00%, 98.83%); border: none;\">\n",
       "    <td style=\"padding: 0 1em 0 0.5em; text-align: right; border: none;\">\n",
       "        -0.013\n",
       "    </td>\n",
       "    <td style=\"padding: 0 0.5em 0 0.5em; text-align: left; border: none;\">\n",
       "        x5\n",
       "    </td>\n",
       "    \n",
       "</tr>\n",
       "        \n",
       "            <tr style=\"background-color: hsl(0, 100.00%, 98.45%); border: none;\">\n",
       "    <td style=\"padding: 0 1em 0 0.5em; text-align: right; border: none;\">\n",
       "        -0.020\n",
       "    </td>\n",
       "    <td style=\"padding: 0 0.5em 0 0.5em; text-align: left; border: none;\">\n",
       "        x7\n",
       "    </td>\n",
       "    \n",
       "</tr>\n",
       "        \n",
       "            <tr style=\"background-color: hsl(0, 100.00%, 98.22%); border: none;\">\n",
       "    <td style=\"padding: 0 1em 0 0.5em; text-align: right; border: none;\">\n",
       "        -0.024\n",
       "    </td>\n",
       "    <td style=\"padding: 0 0.5em 0 0.5em; text-align: left; border: none;\">\n",
       "        x2\n",
       "    </td>\n",
       "    \n",
       "</tr>\n",
       "        \n",
       "            <tr style=\"background-color: hsl(0, 100.00%, 98.15%); border: none;\">\n",
       "    <td style=\"padding: 0 1em 0 0.5em; text-align: right; border: none;\">\n",
       "        -0.026\n",
       "    </td>\n",
       "    <td style=\"padding: 0 0.5em 0 0.5em; text-align: left; border: none;\">\n",
       "        x9\n",
       "    </td>\n",
       "    \n",
       "</tr>\n",
       "        \n",
       "            <tr style=\"background-color: hsl(0, 100.00%, 98.07%); border: none;\">\n",
       "    <td style=\"padding: 0 1em 0 0.5em; text-align: right; border: none;\">\n",
       "        -0.027\n",
       "    </td>\n",
       "    <td style=\"padding: 0 0.5em 0 0.5em; text-align: left; border: none;\">\n",
       "        x6\n",
       "    </td>\n",
       "    \n",
       "</tr>\n",
       "        \n",
       "            <tr style=\"background-color: hsl(0, 100.00%, 97.96%); border: none;\">\n",
       "    <td style=\"padding: 0 1em 0 0.5em; text-align: right; border: none;\">\n",
       "        -0.029\n",
       "    </td>\n",
       "    <td style=\"padding: 0 0.5em 0 0.5em; text-align: left; border: none;\">\n",
       "        x0\n",
       "    </td>\n",
       "    \n",
       "</tr>\n",
       "        \n",
       "            <tr style=\"background-color: hsl(0, 100.00%, 96.10%); border: none;\">\n",
       "    <td style=\"padding: 0 1em 0 0.5em; text-align: right; border: none;\">\n",
       "        -0.074\n",
       "    </td>\n",
       "    <td style=\"padding: 0 0.5em 0 0.5em; text-align: left; border: none;\">\n",
       "        x16\n",
       "    </td>\n",
       "    \n",
       "</tr>\n",
       "        \n",
       "\n",
       "        </tbody>\n",
       "    </table>\n",
       "\n",
       "            \n",
       "        \n",
       "\n",
       "        \n",
       "\n",
       "\n",
       "\n",
       "    \n",
       "\n",
       "    \n",
       "\n",
       "    \n",
       "\n",
       "    \n",
       "\n",
       "\n",
       "    \n",
       "\n",
       "    \n",
       "\n",
       "    \n",
       "\n",
       "    \n",
       "\n",
       "    \n",
       "\n",
       "    \n",
       "\n",
       "\n",
       "    \n",
       "\n",
       "    \n",
       "\n",
       "    \n",
       "\n",
       "    \n",
       "\n",
       "    \n",
       "\n",
       "    \n",
       "\n",
       "\n",
       "\n"
      ],
      "text/plain": [
       "<IPython.core.display.HTML object>"
      ]
     },
     "execution_count": 20,
     "metadata": {},
     "output_type": "execute_result"
    }
   ],
   "source": [
    "model = LinearRegression()\n",
    "model.fit(X,y)\n",
    "perm = PermutationImportance(model, random_state=1).fit(X, y)\n",
    "eli5.show_weights(model)"
   ]
  },
  {
   "cell_type": "markdown",
   "id": "c72f2c44",
   "metadata": {},
   "source": [
    "### Selección con un modelo ensamblado"
   ]
  },
  {
   "cell_type": "code",
   "execution_count": 21,
   "id": "75835c9e",
   "metadata": {},
   "outputs": [],
   "source": [
    "import shap\n",
    "from sklearn.ensemble import RandomForestRegressor"
   ]
  },
  {
   "cell_type": "code",
   "execution_count": 22,
   "id": "e830fd1f",
   "metadata": {},
   "outputs": [
    {
     "data": {
      "image/png": "[encoded data removed]",
      "text/plain": [
       "<Figure size 576x626.4 with 1 Axes>"
      ]
     },
     "metadata": {
      "needs_background": "light"
     },
     "output_type": "display_data"
    }
   ],
   "source": [
    "model = RandomForestRegressor(max_depth=6, random_state=0, n_estimators=10)\n",
    "model.fit(X, y)\n",
    "plt.figure(figsize=(10,10))\n",
    "shap_values = shap.TreeExplainer(model).shap_values(X)\n",
    "shap.summary_plot(shap_values, X, plot_type=\"bar\",show=False)\n",
    "plt.savefig(ruta_imagenes+'Seleccion_variables_from_rf.png', bbox_inches='tight', dpi=150)"
   ]
  },
  {
   "cell_type": "code",
   "execution_count": null,
   "id": "5ac92b11",
   "metadata": {},
   "outputs": [],
   "source": []
  }
 ],
 "metadata": {
  "kernelspec": {
   "display_name": "Python 3 (ipykernel)",
   "language": "python",
   "name": "python3"
  },
  "language_info": {
   "codemirror_mode": {
    "name": "ipython",
    "version": 3
   },
   "file_extension": ".py",
   "mimetype": "text/x-python",
   "name": "python",
   "nbconvert_exporter": "python",
   "pygments_lexer": "ipython3",
   "version": "3.7.10"
  }
 },
 "nbformat": 4,
 "nbformat_minor": 5
}
